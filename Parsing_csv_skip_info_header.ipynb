{
 "cells": [
  {
   "cell_type": "code",
   "execution_count": 14,
   "metadata": {
    "collapsed": false
   },
   "outputs": [
    {
     "name": "stdout",
     "output_type": "stream",
     "text": [
      "MOUNTAIN VIEW MOFFETT FLD NAS\n",
      "ETR (W/m^2)\n",
      "98\n",
      "01:00\n",
      "01/01/2005\n",
      "2\n"
     ]
    }
   ],
   "source": [
    "import csv\n",
    "import os\n",
    "from itertools import islice\n",
    "\n",
    "DATADIR = \"\"\n",
    "datafile = \"/Users/Ania/Documents/CV/Courses/Nanodegree/Data_wrangling/745090.csv\"\n",
    "\n",
    "name = \"\"\n",
    "data = []\n",
    "with open(datafile,'rb') as f:\n",
    "    datacsv = csv.reader(f, delimiter = ',') \n",
    "    name = next(datacsv)[1]\n",
    "    header = next(datacsv)\n",
    "    #for i in range(2):\n",
    "    #    next(datacsv, None)\n",
    "        \n",
    "    for line in datacsv:\n",
    "            data.append(line)\n",
    "    pass\n",
    "print name \n",
    "print header[2]\n",
    "print len(data)\n",
    "print data[0][1]\n",
    "print data[2][0]\n",
    "print data[2][5]"
   ]
  },
  {
   "cell_type": "code",
   "execution_count": null,
   "metadata": {
    "collapsed": true
   },
   "outputs": [],
   "source": []
  }
 ],
 "metadata": {
  "kernelspec": {
   "display_name": "Python 2",
   "language": "python",
   "name": "python2"
  },
  "language_info": {
   "codemirror_mode": {
    "name": "ipython",
    "version": 2
   },
   "file_extension": ".py",
   "mimetype": "text/x-python",
   "name": "python",
   "nbconvert_exporter": "python",
   "pygments_lexer": "ipython2",
   "version": "2.7.11"
  }
 },
 "nbformat": 4,
 "nbformat_minor": 2
}
